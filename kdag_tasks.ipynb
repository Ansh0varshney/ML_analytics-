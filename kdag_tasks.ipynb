{
  "nbformat": 4,
  "nbformat_minor": 0,
  "metadata": {
    "colab": {
      "provenance": [],
      "include_colab_link": true
    },
    "kernelspec": {
      "name": "python3",
      "display_name": "Python 3"
    },
    "language_info": {
      "name": "python"
    }
  },
  "cells": [
    {
      "cell_type": "markdown",
      "metadata": {
        "id": "view-in-github",
        "colab_type": "text"
      },
      "source": [
        "<a href=\"https://colab.research.google.com/github/Ansh0varshney/ML_analytics-/blob/main/kdag_tasks.ipynb\" target=\"_parent\"><img src=\"https://colab.research.google.com/assets/colab-badge.svg\" alt=\"Open In Colab\"/></a>"
      ]
    },
    {
      "cell_type": "markdown",
      "source": [
        "lOGISTIC REGRESSION"
      ],
      "metadata": {
        "id": "12AeU-Reufbv"
      }
    },
    {
      "cell_type": "code",
      "execution_count": null,
      "metadata": {
        "id": "f3uSvrMa3oeD"
      },
      "outputs": [],
      "source": [
        "#Importing libraries\n",
        "import numpy as np\n",
        "import pandas as pd\n",
        "import matplotlib.pyplot as plt\n",
        "%matplotlib inline\n",
        "import seaborn as sns\n",
        "import sklearn\n",
        "\n",
        "#Comparison with Scikit-Learn\n",
        "from sklearn.linear_model import LogisticRegression"
      ]
    },
    {
      "cell_type": "code",
      "source": [
        "#Importing the data\n",
        #Importing the data
        "from google.colab import drive\n",
        "drive.mount('/content/drive')\n",
        "df = pd.read_csv('/content/drive/My Drive/kdag_data/ds1_train.csv')\n",
        "df_test = pd.read_csv('/content/drive/My Drive/kdag_data/ds1_test.csv')"

      ],
      "metadata": {
        "colab": {
          "base_uri": "https://localhost:8080/"
        },
        "id": "pm7W8t-l3u5O",
        "outputId": "9f8bf4f1-27b4-4532-d48e-020bc91e2893"
      },
      "execution_count": null,
      "outputs": [
        {
          "output_type": "stream",
          "name": "stdout",
          "text": [
            "Mounted at /content/drive\n"
          ]
        }
      ]
    },
    {
      "cell_type": "code",
      "source": [
        "df.head()"
      ],
      "metadata": {
        "id": "chS-jRb49Bmi",
        "colab": {
          "base_uri": "https://localhost:8080/",
          "height": 206
        },
        "outputId": "531e2a2e-4f50-485f-a732-d1703c9b31b4"
      },
      "execution_count": null,
      "outputs": [
        {
          "output_type": "execute_result",
          "data": {
            "text/plain": [
              "        x_1         x_2    y\n",
              "0  2.911809   60.359613  0.0\n",
              "1  3.774746  344.149284  0.0\n",
              "2  2.615488  178.222087  0.0\n",
              "3  2.013694   15.259472  0.0\n",
              "4  2.757625   66.194174  0.0"
            ],
            "text/html": [
              "\n",
              "\n",
              "  <div id=\"df-35ee6758-7373-4c7b-bd98-0bf2f79be3a9\">\n",
              "    <div class=\"colab-df-container\">\n",
              "      <div>\n",
              "<style scoped>\n",
              "    .dataframe tbody tr th:only-of-type {\n",
              "        vertical-align: middle;\n",
              "    }\n",
              "\n",
              "    .dataframe tbody tr th {\n",
              "        vertical-align: top;\n",
              "    }\n",
              "\n",
              "    .dataframe thead th {\n",
              "        text-align: right;\n",
              "    }\n",
              "</style>\n",
              "<table border=\"1\" class=\"dataframe\">\n",
              "  <thead>\n",
              "    <tr style=\"text-align: right;\">\n",
              "      <th></th>\n",
              "      <th>x_1</th>\n",
              "      <th>x_2</th>\n",
              "      <th>y</th>\n",
              "    </tr>\n",
              "  </thead>\n",
              "  <tbody>\n",
              "    <tr>\n",
              "      <th>0</th>\n",
              "      <td>2.911809</td>\n",
              "      <td>60.359613</td>\n",
              "      <td>0.0</td>\n",
              "    </tr>\n",
              "    <tr>\n",
              "      <th>1</th>\n",
              "      <td>3.774746</td>\n",
              "      <td>344.149284</td>\n",
              "      <td>0.0</td>\n",
              "    </tr>\n",
              "    <tr>\n",
              "      <th>2</th>\n",
              "      <td>2.615488</td>\n",
              "      <td>178.222087</td>\n",
              "      <td>0.0</td>\n",
              "    </tr>\n",
              "    <tr>\n",
              "      <th>3</th>\n",
              "      <td>2.013694</td>\n",
              "      <td>15.259472</td>\n",
              "      <td>0.0</td>\n",
              "    </tr>\n",
              "    <tr>\n",
              "      <th>4</th>\n",
              "      <td>2.757625</td>\n",
              "      <td>66.194174</td>\n",
              "      <td>0.0</td>\n",
              "    </tr>\n",
              "  </tbody>\n",
              "</table>\n",
              "</div>\n",
              "      <button class=\"colab-df-convert\" onclick=\"convertToInteractive('df-35ee6758-7373-4c7b-bd98-0bf2f79be3a9')\"\n",
              "              title=\"Convert this dataframe to an interactive table.\"\n",
              "              style=\"display:none;\">\n",
              "\n",
              "  <svg xmlns=\"http://www.w3.org/2000/svg\" height=\"24px\"viewBox=\"0 0 24 24\"\n",
              "       width=\"24px\">\n",
              "    <path d=\"M0 0h24v24H0V0z\" fill=\"none\"/>\n",
              "    <path d=\"M18.56 5.44l.94 2.06.94-2.06 2.06-.94-2.06-.94-.94-2.06-.94 2.06-2.06.94zm-11 1L8.5 8.5l.94-2.06 2.06-.94-2.06-.94L8.5 2.5l-.94 2.06-2.06.94zm10 10l.94 2.06.94-2.06 2.06-.94-2.06-.94-.94-2.06-.94 2.06-2.06.94z\"/><path d=\"M17.41 7.96l-1.37-1.37c-.4-.4-.92-.59-1.43-.59-.52 0-1.04.2-1.43.59L10.3 9.45l-7.72 7.72c-.78.78-.78 2.05 0 2.83L4 21.41c.39.39.9.59 1.41.59.51 0 1.02-.2 1.41-.59l7.78-7.78 2.81-2.81c.8-.78.8-2.07 0-2.86zM5.41 20L4 18.59l7.72-7.72 1.47 1.35L5.41 20z\"/>\n",
              "  </svg>\n",
              "      </button>\n",
              "\n",
              "\n",
              "\n",
              "    <div id=\"df-2d8dd3b6-d606-46a5-af8d-eeaf702b032c\">\n",
              "      <button class=\"colab-df-quickchart\" onclick=\"quickchart('df-2d8dd3b6-d606-46a5-af8d-eeaf702b032c')\"\n",
              "              title=\"Suggest charts.\"\n",
              "              style=\"display:none;\">\n",
              "\n",
              "<svg xmlns=\"http://www.w3.org/2000/svg\" height=\"24px\"viewBox=\"0 0 24 24\"\n",
              "     width=\"24px\">\n",
              "    <g>\n",
              "        <path d=\"M19 3H5c-1.1 0-2 .9-2 2v14c0 1.1.9 2 2 2h14c1.1 0 2-.9 2-2V5c0-1.1-.9-2-2-2zM9 17H7v-7h2v7zm4 0h-2V7h2v10zm4 0h-2v-4h2v4z\"/>\n",
              "    </g>\n",
              "</svg>\n",
              "      </button>\n",
              "    </div>\n",
              "\n",
              "<style>\n",
              "  .colab-df-quickchart {\n",
              "    background-color: #E8F0FE;\n",
              "    border: none;\n",
              "    border-radius: 50%;\n",
              "    cursor: pointer;\n",
              "    display: none;\n",
              "    fill: #1967D2;\n",
              "    height: 32px;\n",
              "    padding: 0 0 0 0;\n",
              "    width: 32px;\n",
              "  }\n",
              "\n",
              "  .colab-df-quickchart:hover {\n",
              "    background-color: #E2EBFA;\n",
              "    box-shadow: 0px 1px 2px rgba(60, 64, 67, 0.3), 0px 1px 3px 1px rgba(60, 64, 67, 0.15);\n",
              "    fill: #174EA6;\n",
              "  }\n",
              "\n",
              "  [theme=dark] .colab-df-quickchart {\n",
              "    background-color: #3B4455;\n",
              "    fill: #D2E3FC;\n",
              "  }\n",
              "\n",
              "  [theme=dark] .colab-df-quickchart:hover {\n",
              "    background-color: #434B5C;\n",
              "    box-shadow: 0px 1px 3px 1px rgba(0, 0, 0, 0.15);\n",
              "    filter: drop-shadow(0px 1px 2px rgba(0, 0, 0, 0.3));\n",
              "    fill: #FFFFFF;\n",
              "  }\n",
              "</style>\n",
              "\n",
              "    <script>\n",
              "      async function quickchart(key) {\n",
              "        const containerElement = document.querySelector('#' + key);\n",
              "        const charts = await google.colab.kernel.invokeFunction(\n",
              "            'suggestCharts', [key], {});\n",
              "      }\n",
              "    </script>\n",
              "\n",
              "      <script>\n",
              "\n",
              "function displayQuickchartButton(domScope) {\n",
              "  let quickchartButtonEl =\n",
              "    domScope.querySelector('#df-2d8dd3b6-d606-46a5-af8d-eeaf702b032c button.colab-df-quickchart');\n",
              "  quickchartButtonEl.style.display =\n",
              "    google.colab.kernel.accessAllowed ? 'block' : 'none';\n",
              "}\n",
              "\n",
              "        displayQuickchartButton(document);\n",
              "      </script>\n",
              "      <style>\n",
              "    .colab-df-container {\n",
              "      display:flex;\n",
              "      flex-wrap:wrap;\n",
              "      gap: 12px;\n",
              "    }\n",
              "\n",
              "    .colab-df-convert {\n",
              "      background-color: #E8F0FE;\n",
              "      border: none;\n",
              "      border-radius: 50%;\n",
              "      cursor: pointer;\n",
              "      display: none;\n",
              "      fill: #1967D2;\n",
              "      height: 32px;\n",
              "      padding: 0 0 0 0;\n",
              "      width: 32px;\n",
              "    }\n",
              "\n",
              "    .colab-df-convert:hover {\n",
              "      background-color: #E2EBFA;\n",
              "      box-shadow: 0px 1px 2px rgba(60, 64, 67, 0.3), 0px 1px 3px 1px rgba(60, 64, 67, 0.15);\n",
              "      fill: #174EA6;\n",
              "    }\n",
              "\n",
              "    [theme=dark] .colab-df-convert {\n",
              "      background-color: #3B4455;\n",
              "      fill: #D2E3FC;\n",
              "    }\n",
              "\n",
              "    [theme=dark] .colab-df-convert:hover {\n",
              "      background-color: #434B5C;\n",
              "      box-shadow: 0px 1px 3px 1px rgba(0, 0, 0, 0.15);\n",
              "      filter: drop-shadow(0px 1px 2px rgba(0, 0, 0, 0.3));\n",
              "      fill: #FFFFFF;\n",
              "    }\n",
              "  </style>\n",
              "\n",
              "      <script>\n",
              "        const buttonEl =\n",
              "          document.querySelector('#df-35ee6758-7373-4c7b-bd98-0bf2f79be3a9 button.colab-df-convert');\n",
              "        buttonEl.style.display =\n",
              "          google.colab.kernel.accessAllowed ? 'block' : 'none';\n",
              "\n",
              "        async function convertToInteractive(key) {\n",
              "          const element = document.querySelector('#df-35ee6758-7373-4c7b-bd98-0bf2f79be3a9');\n",
              "          const dataTable =\n",
              "            await google.colab.kernel.invokeFunction('convertToInteractive',\n",
              "                                                     [key], {});\n",
              "          if (!dataTable) return;\n",
              "\n",
              "          const docLinkHtml = 'Like what you see? Visit the ' +\n",
              "            '<a target=\"_blank\" href=https://colab.research.google.com/notebooks/data_table.ipynb>data table notebook</a>'\n",
              "            + ' to learn more about interactive tables.';\n",
              "          element.innerHTML = '';\n",
              "          dataTable['output_type'] = 'display_data';\n",
              "          await google.colab.output.renderOutput(dataTable, element);\n",
              "          const docLink = document.createElement('div');\n",
              "          docLink.innerHTML = docLinkHtml;\n",
              "          element.appendChild(docLink);\n",
              "        }\n",
              "      </script>\n",
              "    </div>\n",
              "  </div>\n"
            ]
          },
          "metadata": {},
          "execution_count": 4
        }
      ]
    },
    {
      "cell_type": "code",
      "source": [
        "df.isnull()"
      ],
      "metadata": {
        "colab": {
          "base_uri": "https://localhost:8080/",
          "height": 423
        },
        "id": "5vjgutdfU6Ce",
        "outputId": "6618c40e-354a-43fa-ea4d-d50e07e461dc"
      },
      "execution_count": null,
      "outputs": [
        {
          "output_type": "execute_result",
          "data": {
            "text/plain": [
              "       x_1    x_2      y\n",
              "0    False  False  False\n",
              "1    False  False  False\n",
              "2    False  False  False\n",
              "3    False  False  False\n",
              "4    False  False  False\n",
              "..     ...    ...    ...\n",
              "795  False  False  False\n",
              "796  False  False  False\n",
              "797  False  False  False\n",
              "798  False  False  False\n",
              "799  False  False  False\n",
              "\n",
              "[800 rows x 3 columns]"
            ],
            "text/html": [
              "\n",
              "\n",
              "  <div id=\"df-144e73fc-4007-4072-bd13-0aebef48f2d9\">\n",
              "    <div class=\"colab-df-container\">\n",
              "      <div>\n",
              "<style scoped>\n",
              "    .dataframe tbody tr th:only-of-type {\n",
              "        vertical-align: middle;\n",
              "    }\n",
              "\n",
              "    .dataframe tbody tr th {\n",
              "        vertical-align: top;\n",
              "    }\n",
              "\n",
              "    .dataframe thead th {\n",
              "        text-align: right;\n",
              "    }\n",
              "</style>\n",
              "<table border=\"1\" class=\"dataframe\">\n",
              "  <thead>\n",
              "    <tr style=\"text-align: right;\">\n",
              "      <th></th>\n",
              "      <th>x_1</th>\n",
              "      <th>x_2</th>\n",
              "      <th>y</th>\n",
              "    </tr>\n",
              "  </thead>\n",
              "  <tbody>\n",
              "    <tr>\n",
              "      <th>0</th>\n",
              "      <td>False</td>\n",
              "      <td>False</td>\n",
              "      <td>False</td>\n",
              "    </tr>\n",
              "    <tr>\n",
              "      <th>1</th>\n",
              "      <td>False</td>\n",
              "      <td>False</td>\n",
              "      <td>False</td>\n",
              "    </tr>\n",
              "    <tr>\n",
              "      <th>2</th>\n",
              "      <td>False</td>\n",
              "      <td>False</td>\n",
              "      <td>False</td>\n",
              "    </tr>\n",
              "    <tr>\n",
              "      <th>3</th>\n",
              "      <td>False</td>\n",
              "      <td>False</td>\n",
              "      <td>False</td>\n",
              "    </tr>\n",
              "    <tr>\n",
              "      <th>4</th>\n",
              "      <td>False</td>\n",
              "      <td>False</td>\n",
              "      <td>False</td>\n",
              "    </tr>\n",
              "    <tr>\n",
              "      <th>...</th>\n",
              "      <td>...</td>\n",
              "      <td>...</td>\n",
              "      <td>...</td>\n",
              "    </tr>\n",
              "    <tr>\n",
              "      <th>795</th>\n",
              "      <td>False</td>\n",
              "      <td>False</td>\n",
              "      <td>False</td>\n",
              "    </tr>\n",
              "    <tr>\n",
              "      <th>796</th>\n",
              "      <td>False</td>\n",
              "      <td>False</td>\n",
              "      <td>False</td>\n",
              "    </tr>\n",
              "    <tr>\n",
              "      <th>797</th>\n",
              "      <td>False</td>\n",
              "      <td>False</td>\n",
              "      <td>False</td>\n",
              "    </tr>\n",
              "    <tr>\n",
              "      <th>798</th>\n",
              "      <td>False</td>\n",
              "      <td>False</td>\n",
              "      <td>False</td>\n",
              "    </tr>\n",
              "    <tr>\n",
              "      <th>799</th>\n",
              "      <td>False</td>\n",
              "      <td>False</td>\n",
              "      <td>False</td>\n",
              "    </tr>\n",
              "  </tbody>\n",
              "</table>\n",
              "<p>800 rows × 3 columns</p>\n",
              "</div>\n",
              "      <button class=\"colab-df-convert\" onclick=\"convertToInteractive('df-144e73fc-4007-4072-bd13-0aebef48f2d9')\"\n",
              "              title=\"Convert this dataframe to an interactive table.\"\n",
              "              style=\"display:none;\">\n",
              "\n",
              "  <svg xmlns=\"http://www.w3.org/2000/svg\" height=\"24px\"viewBox=\"0 0 24 24\"\n",
              "       width=\"24px\">\n",
              "    <path d=\"M0 0h24v24H0V0z\" fill=\"none\"/>\n",
              "    <path d=\"M18.56 5.44l.94 2.06.94-2.06 2.06-.94-2.06-.94-.94-2.06-.94 2.06-2.06.94zm-11 1L8.5 8.5l.94-2.06 2.06-.94-2.06-.94L8.5 2.5l-.94 2.06-2.06.94zm10 10l.94 2.06.94-2.06 2.06-.94-2.06-.94-.94-2.06-.94 2.06-2.06.94z\"/><path d=\"M17.41 7.96l-1.37-1.37c-.4-.4-.92-.59-1.43-.59-.52 0-1.04.2-1.43.59L10.3 9.45l-7.72 7.72c-.78.78-.78 2.05 0 2.83L4 21.41c.39.39.9.59 1.41.59.51 0 1.02-.2 1.41-.59l7.78-7.78 2.81-2.81c.8-.78.8-2.07 0-2.86zM5.41 20L4 18.59l7.72-7.72 1.47 1.35L5.41 20z\"/>\n",
              "  </svg>\n",
              "      </button>\n",
              "\n",
              "\n",
              "\n",
              "    <div id=\"df-60a44910-fb80-4a52-b7a1-c609f4cd85bf\">\n",
              "      <button class=\"colab-df-quickchart\" onclick=\"quickchart('df-60a44910-fb80-4a52-b7a1-c609f4cd85bf')\"\n",
              "              title=\"Suggest charts.\"\n",
              "              style=\"display:none;\">\n",
              "\n",
              "<svg xmlns=\"http://www.w3.org/2000/svg\" height=\"24px\"viewBox=\"0 0 24 24\"\n",
              "     width=\"24px\">\n",
              "    <g>\n",
              "        <path d=\"M19 3H5c-1.1 0-2 .9-2 2v14c0 1.1.9 2 2 2h14c1.1 0 2-.9 2-2V5c0-1.1-.9-2-2-2zM9 17H7v-7h2v7zm4 0h-2V7h2v10zm4 0h-2v-4h2v4z\"/>\n",
              "    </g>\n",
              "</svg>\n",
              "      </button>\n",
              "    </div>\n",
              "\n",
              "<style>\n",
              "  .colab-df-quickchart {\n",
              "    background-color: #E8F0FE;\n",
              "    border: none;\n",
              "    border-radius: 50%;\n",
              "    cursor: pointer;\n",
              "    display: none;\n",
              "    fill: #1967D2;\n",
              "    height: 32px;\n",
              "    padding: 0 0 0 0;\n",
              "    width: 32px;\n",
              "  }\n",
              "\n",
              "  .colab-df-quickchart:hover {\n",
              "    background-color: #E2EBFA;\n",
              "    box-shadow: 0px 1px 2px rgba(60, 64, 67, 0.3), 0px 1px 3px 1px rgba(60, 64, 67, 0.15);\n",
              "    fill: #174EA6;\n",
              "  }\n",
              "\n",
              "  [theme=dark] .colab-df-quickchart {\n",
              "    background-color: #3B4455;\n",
              "    fill: #D2E3FC;\n",
              "  }\n",
              "\n",
              "  [theme=dark] .colab-df-quickchart:hover {\n",
              "    background-color: #434B5C;\n",
              "    box-shadow: 0px 1px 3px 1px rgba(0, 0, 0, 0.15);\n",
              "    filter: drop-shadow(0px 1px 2px rgba(0, 0, 0, 0.3));\n",
              "    fill: #FFFFFF;\n",
              "  }\n",
              "</style>\n",
              "\n",
              "    <script>\n",
              "      async function quickchart(key) {\n",
              "        const containerElement = document.querySelector('#' + key);\n",
              "        const charts = await google.colab.kernel.invokeFunction(\n",
              "            'suggestCharts', [key], {});\n",
              "      }\n",
              "    </script>\n",
              "\n",
              "      <script>\n",
              "\n",
              "function displayQuickchartButton(domScope) {\n",
              "  let quickchartButtonEl =\n",
              "    domScope.querySelector('#df-60a44910-fb80-4a52-b7a1-c609f4cd85bf button.colab-df-quickchart');\n",
              "  quickchartButtonEl.style.display =\n",
              "    google.colab.kernel.accessAllowed ? 'block' : 'none';\n",
              "}\n",
              "\n",
              "        displayQuickchartButton(document);\n",
              "      </script>\n",
              "      <style>\n",
              "    .colab-df-container {\n",
              "      display:flex;\n",
              "      flex-wrap:wrap;\n",
              "      gap: 12px;\n",
              "    }\n",
              "\n",
              "    .colab-df-convert {\n",
              "      background-color: #E8F0FE;\n",
              "      border: none;\n",
              "      border-radius: 50%;\n",
              "      cursor: pointer;\n",
              "      display: none;\n",
              "      fill: #1967D2;\n",
              "      height: 32px;\n",
              "      padding: 0 0 0 0;\n",
              "      width: 32px;\n",
              "    }\n",
              "\n",
              "    .colab-df-convert:hover {\n",
              "      background-color: #E2EBFA;\n",
              "      box-shadow: 0px 1px 2px rgba(60, 64, 67, 0.3), 0px 1px 3px 1px rgba(60, 64, 67, 0.15);\n",
              "      fill: #174EA6;\n",
              "    }\n",
              "\n",
              "    [theme=dark] .colab-df-convert {\n",
              "      background-color: #3B4455;\n",
              "      fill: #D2E3FC;\n",
              "    }\n",
              "\n",
              "    [theme=dark] .colab-df-convert:hover {\n",
              "      background-color: #434B5C;\n",
              "      box-shadow: 0px 1px 3px 1px rgba(0, 0, 0, 0.15);\n",
              "      filter: drop-shadow(0px 1px 2px rgba(0, 0, 0, 0.3));\n",
              "      fill: #FFFFFF;\n",
              "    }\n",
              "  </style>\n",
              "\n",
              "      <script>\n",
              "        const buttonEl =\n",
              "          document.querySelector('#df-144e73fc-4007-4072-bd13-0aebef48f2d9 button.colab-df-convert');\n",
              "        buttonEl.style.display =\n",
              "          google.colab.kernel.accessAllowed ? 'block' : 'none';\n",
              "\n",
              "        async function convertToInteractive(key) {\n",
              "          const element = document.querySelector('#df-144e73fc-4007-4072-bd13-0aebef48f2d9');\n",
              "          const dataTable =\n",
              "            await google.colab.kernel.invokeFunction('convertToInteractive',\n",
              "                                                     [key], {});\n",
              "          if (!dataTable) return;\n",
              "\n",
              "          const docLinkHtml = 'Like what you see? Visit the ' +\n",
              "            '<a target=\"_blank\" href=https://colab.research.google.com/notebooks/data_table.ipynb>data table notebook</a>'\n",
              "            + ' to learn more about interactive tables.';\n",
              "          element.innerHTML = '';\n",
              "          dataTable['output_type'] = 'display_data';\n",
              "          await google.colab.output.renderOutput(dataTable, element);\n",
              "          const docLink = document.createElement('div');\n",
              "          docLink.innerHTML = docLinkHtml;\n",
              "          element.appendChild(docLink);\n",
              "        }\n",
              "      </script>\n",
              "    </div>\n",
              "  </div>\n"
            ]
          },
          "metadata": {},
          "execution_count": 5
        }
      ]
    },
    {
      "cell_type": "code",
      "source": [
        "#To check weather the data has Nan value\n",
        "sns.heatmap(df.isnull())"
      ],
      "metadata": {
        "colab": {
          "base_uri": "https://localhost:8080/",
          "height": 455
        },
        "id": "ndr4yxFNsVUj",
        "outputId": "18a6cac4-5778-4cf1-8396-ba498cabf594"
      },
      "execution_count": null,
      "outputs": [
        {
          "output_type": "execute_result",
          "data": {
            "text/plain": [
              "<Axes: >"
            ]
          },
          "metadata": {},
          "execution_count": 6
        },
        {
          "output_type": "display_data",
          "data": {
            "text/plain": [
              "<Figure size 640x480 with 2 Axes>"
            ],
            "image/png": "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\n"
          },
          "metadata": {}
        }
      ]
    },
    {
      "cell_type": "code",
      "source": [
        "#Analysing the data\n",
        "sns.countplot(x='y', data=df)"
      ],
      "metadata": {
        "colab": {
          "base_uri": "https://localhost:8080/",
          "height": 467
        },
        "id": "T6FwMuZkQd2b",
        "outputId": "f2d264ba-1092-4657-caa3-636e71553f17"
      },
      "execution_count": null,
      "outputs": [
        {
          "output_type": "execute_result",
          "data": {
            "text/plain": [
              "<Axes: xlabel='y', ylabel='count'>"
            ]
          },
          "metadata": {},
          "execution_count": 7
        },
        {
          "output_type": "display_data",
          "data": {
            "text/plain": [
              "<Figure size 640x480 with 1 Axes>"
            ],
            "image/png": "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\n"
          },
          "metadata": {}
        }
      ]
    },
    {
      "cell_type": "code",
      "source": [
        "#Plotting the data\n",
        "sns.scatterplot(x='x_1', y='x_2', hue='y', data=df, palette='bright')\n"
      ],
      "metadata": {
        "colab": {
          "base_uri": "https://localhost:8080/",
          "height": 467
        },
        "id": "nF1CoapU5NQc",
        "outputId": "7a05e4d9-fb91-44bd-bead-dfea2f0f7752"
      },
      "execution_count": null,
      "outputs": [
        {
          "output_type": "execute_result",
          "data": {
            "text/plain": [
              "<Axes: xlabel='x_1', ylabel='x_2'>"
            ]
          },
          "metadata": {},
          "execution_count": 8
        },
        {
          "output_type": "display_data",
          "data": {
            "text/plain": [
              "<Figure size 640x480 with 1 Axes>"
            ],
            "image/png": "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\n"
          },
          "metadata": {}
        }
      ]
    },
    {
      "cell_type": "markdown",
      "source": [],
      "metadata": {
        "id": "KW_gBa2huLKR"
      }
    },
    {
      "cell_type": "code",
      "source": [
        "\n",
        "X = df.iloc[:, 0:2].values\n",
        "X_test = df_test.iloc[:, 0:2].values\n",
        "Y = df.iloc[:, -1].values\n",
        "Y_test = df_test.iloc[:, -1].values\n",
        "\n",
        "iteration = 1000\n",
        "learning_rate = 0.001\n",
        "\n",
        "m, n = X.shape\n",
        "w = np.zeros(n)  # Initialize weights with zeros for each feature\n",
        "b = 0\n",
        "\n",
        "for i in range(iteration):\n",
        "    h_pred = 1 / (1 + np.exp(-(X @ w + b)))  # Predicted probabilities\n",
        "    tmp = (Y - h_pred)\n",
        "    d_w = -(1 / m) * (X.T @ tmp)  # Gradient with respect to weights\n",
        "    d_b = -(1 / m) * sum(tmp)  # Gradient with respect to bias\n",
        "\n",
        "    w = w - learning_rate * d_w  # Update weights\n",
        "    b = b - learning_rate * d_b  # Update bias\n",
        "\n",
        "# Make predictions on the test set\n",
        "sigmoid_output = X_test @ w + b\n",
        "Y_pred = np.where(1 / (1 + np.exp(-sigmoid_output)) > 0.5, 1, 0)"
      ],
      "metadata": {
        "colab": {
          "base_uri": "https://localhost:8080/",
          "height": 242
        },
        "id": "-jurIRat1udJ",
        "outputId": "2fb5307c-d703-4a31-fb57-3b4ce48371b8"
      },
      "execution_count": null,
      "outputs": [
        {
          "output_type": "error",
          "ename": "NameError",
          "evalue": "ignored",
          "traceback": [
            "\u001b[0;31m---------------------------------------------------------------------------\u001b[0m",
            "\u001b[0;31mNameError\u001b[0m                                 Traceback (most recent call last)",
            "\u001b[0;32m<ipython-input-1-25743f7d49e8>\u001b[0m in \u001b[0;36m<cell line: 1>\u001b[0;34m()\u001b[0m\n\u001b[0;32m----> 1\u001b[0;31m \u001b[0mX\u001b[0m \u001b[0;34m=\u001b[0m \u001b[0mdf\u001b[0m\u001b[0;34m.\u001b[0m\u001b[0miloc\u001b[0m\u001b[0;34m[\u001b[0m\u001b[0;34m:\u001b[0m\u001b[0;34m,\u001b[0m \u001b[0;36m0\u001b[0m\u001b[0;34m:\u001b[0m\u001b[0;36m2\u001b[0m\u001b[0;34m]\u001b[0m\u001b[0;34m.\u001b[0m\u001b[0mvalues\u001b[0m\u001b[0;34m\u001b[0m\u001b[0;34m\u001b[0m\u001b[0m\n\u001b[0m\u001b[1;32m      2\u001b[0m \u001b[0mX_test\u001b[0m \u001b[0;34m=\u001b[0m \u001b[0mdf_test\u001b[0m\u001b[0;34m.\u001b[0m\u001b[0miloc\u001b[0m\u001b[0;34m[\u001b[0m\u001b[0;34m:\u001b[0m\u001b[0;34m,\u001b[0m \u001b[0;36m0\u001b[0m\u001b[0;34m:\u001b[0m\u001b[0;36m2\u001b[0m\u001b[0;34m]\u001b[0m\u001b[0;34m.\u001b[0m\u001b[0mvalues\u001b[0m\u001b[0;34m\u001b[0m\u001b[0;34m\u001b[0m\u001b[0m\n\u001b[1;32m      3\u001b[0m \u001b[0mY\u001b[0m \u001b[0;34m=\u001b[0m \u001b[0mdf\u001b[0m\u001b[0;34m.\u001b[0m\u001b[0miloc\u001b[0m\u001b[0;34m[\u001b[0m\u001b[0;34m:\u001b[0m\u001b[0;34m,\u001b[0m \u001b[0;34m-\u001b[0m\u001b[0;36m1\u001b[0m\u001b[0;34m]\u001b[0m\u001b[0;34m.\u001b[0m\u001b[0mvalues\u001b[0m\u001b[0;34m\u001b[0m\u001b[0;34m\u001b[0m\u001b[0m\n\u001b[1;32m      4\u001b[0m \u001b[0mY_test\u001b[0m \u001b[0;34m=\u001b[0m \u001b[0mdf_test\u001b[0m\u001b[0;34m.\u001b[0m\u001b[0miloc\u001b[0m\u001b[0;34m[\u001b[0m\u001b[0;34m:\u001b[0m\u001b[0;34m,\u001b[0m \u001b[0;34m-\u001b[0m\u001b[0;36m1\u001b[0m\u001b[0;34m]\u001b[0m\u001b[0;34m.\u001b[0m\u001b[0mvalues\u001b[0m\u001b[0;34m\u001b[0m\u001b[0;34m\u001b[0m\u001b[0m\n\u001b[1;32m      5\u001b[0m \u001b[0;34m\u001b[0m\u001b[0m\n",
            "\u001b[0;31mNameError\u001b[0m: name 'df' is not defined"
          ]
        }
      ]
    },
    {
      "cell_type": "code",
      "source": [
        "count =0\n",
        "for i in range(np.size(Y_test)):\n",
        "  if Y_test[i]== Y_pred[i]:\n",
        "   count+=1\n",
        "\n",
        "print(\"Accuracy of the model is\")\n",
        "print(count/(np.size(Y_test))*100)"
      ],
      "metadata": {
        "colab": {
          "base_uri": "https://localhost:8080/"
        },
        "id": "gHi0_uofBJgc",
        "outputId": "676a8d2b-ee9a-4036-f9ac-243cd5b9ea61"
      },
      "execution_count": null,
      "outputs": [
        {
          "output_type": "stream",
          "name": "stdout",
          "text": [
            "Accuracy of the model is\n",
            "73.0\n"
          ]
        }
      ]
    },
    {
      "cell_type": "code",
      "source": [
        "model1 = LogisticRegression()\n",
        "model1.fit( X, Y)\n",
        "Y_pred1 = model1.predict( X_test )\n",
        "\n",
        "count =0\n",
        "for i in range(np.size(Y_test)):\n",
        "  if Y_test[i]== Y_pred1[i]:\n",
        "   count+=1\n",
        "\n",
        "print(\"Accuracy of the Scikit-Learn Model is\")\n",
        "print(count/(np.size(Y_test))*100)\n",
        "\n"
      ],
      "metadata": {
        "colab": {
          "base_uri": "https://localhost:8080/"
        },
        "id": "zIMN8q-8BpAi",
        "outputId": "f4b28573-fa0c-4ab4-9c74-55a1aa121095"
      },
      "execution_count": null,
      "outputs": [
        {
          "output_type": "stream",
          "name": "stdout",
          "text": [
            "Accuracy of the Scikit-Learn Model is\n",
            "90.0\n"
          ]
        }
      ]
    },
    {
      "cell_type": "code",
      "source": [],
      "metadata": {
        "id": "lTUyWAyMGPFU"
      },
      "execution_count": null,
      "outputs": []
    }
  ]
}
